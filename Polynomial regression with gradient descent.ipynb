{
  "nbformat": 4,
  "nbformat_minor": 0,
  "metadata": {
    "colab": {
      "provenance": [],
      "authorship_tag": "ABX9TyNhHIImUJjL1+oF+uR9C8C/",
      "include_colab_link": true
    },
    "kernelspec": {
      "name": "python3",
      "display_name": "Python 3"
    },
    "language_info": {
      "name": "python"
    }
  },
  "cells": [
    {
      "cell_type": "markdown",
      "metadata": {
        "id": "view-in-github",
        "colab_type": "text"
      },
      "source": [
        "<a href=\"https://colab.research.google.com/github/Slimani-CE/AI-Python-Implemention/blob/main/Polynomial%20regression%20with%20gradient%20descent.ipynb\" target=\"_parent\"><img src=\"https://colab.research.google.com/assets/colab-badge.svg\" alt=\"Open In Colab\"/></a>"
      ]
    },
    {
      "cell_type": "markdown",
      "source": [
        "# Importing the libraries"
      ],
      "metadata": {
        "id": "mgB092s9PyFR"
      }
    },
    {
      "cell_type": "code",
      "execution_count": 773,
      "metadata": {
        "id": "3i8YcElMOTSS"
      },
      "outputs": [],
      "source": [
        "import numpy as np\n",
        "import pandas as pd\n",
        "from matplotlib import pyplot as plt\n",
        "import seaborn as sns\n",
        "np.random.seed(0)"
      ]
    },
    {
      "cell_type": "markdown",
      "source": [
        "# Importing the dataset"
      ],
      "metadata": {
        "id": "In6WPlh4P2PS"
      }
    },
    {
      "cell_type": "code",
      "source": [
        "dataset = pd.read_csv('iris.csv')"
      ],
      "metadata": {
        "id": "Mz-YCw1ZPCf7"
      },
      "execution_count": 774,
      "outputs": []
    },
    {
      "cell_type": "code",
      "source": [
        "dataset.shape"
      ],
      "metadata": {
        "colab": {
          "base_uri": "https://localhost:8080/"
        },
        "id": "Sd_Llee6PIyB",
        "outputId": "b191d080-4a56-4b7f-ba14-30b5f716cdd8"
      },
      "execution_count": 775,
      "outputs": [
        {
          "output_type": "execute_result",
          "data": {
            "text/plain": [
              "(150, 5)"
            ]
          },
          "metadata": {},
          "execution_count": 775
        }
      ]
    },
    {
      "cell_type": "code",
      "source": [
        "dataset.head()"
      ],
      "metadata": {
        "colab": {
          "base_uri": "https://localhost:8080/",
          "height": 206
        },
        "id": "GybfbRwQPK3v",
        "outputId": "cbb959fd-c1ef-4440-9d9a-f3e957af8dcd"
      },
      "execution_count": 776,
      "outputs": [
        {
          "output_type": "execute_result",
          "data": {
            "text/plain": [
              "   sepal_length  sepal_width  petal_length  petal_width        class\n",
              "0           5.1          3.5           1.4          0.2  Iris-setosa\n",
              "1           4.9          3.0           1.4          0.2  Iris-setosa\n",
              "2           4.7          3.2           1.3          0.2  Iris-setosa\n",
              "3           4.6          3.1           1.5          0.2  Iris-setosa\n",
              "4           5.0          3.6           1.4          0.2  Iris-setosa"
            ],
            "text/html": [
              "\n",
              "  <div id=\"df-93d6731f-6c92-45f9-a36b-c8b81e0c2bdd\">\n",
              "    <div class=\"colab-df-container\">\n",
              "      <div>\n",
              "<style scoped>\n",
              "    .dataframe tbody tr th:only-of-type {\n",
              "        vertical-align: middle;\n",
              "    }\n",
              "\n",
              "    .dataframe tbody tr th {\n",
              "        vertical-align: top;\n",
              "    }\n",
              "\n",
              "    .dataframe thead th {\n",
              "        text-align: right;\n",
              "    }\n",
              "</style>\n",
              "<table border=\"1\" class=\"dataframe\">\n",
              "  <thead>\n",
              "    <tr style=\"text-align: right;\">\n",
              "      <th></th>\n",
              "      <th>sepal_length</th>\n",
              "      <th>sepal_width</th>\n",
              "      <th>petal_length</th>\n",
              "      <th>petal_width</th>\n",
              "      <th>class</th>\n",
              "    </tr>\n",
              "  </thead>\n",
              "  <tbody>\n",
              "    <tr>\n",
              "      <th>0</th>\n",
              "      <td>5.1</td>\n",
              "      <td>3.5</td>\n",
              "      <td>1.4</td>\n",
              "      <td>0.2</td>\n",
              "      <td>Iris-setosa</td>\n",
              "    </tr>\n",
              "    <tr>\n",
              "      <th>1</th>\n",
              "      <td>4.9</td>\n",
              "      <td>3.0</td>\n",
              "      <td>1.4</td>\n",
              "      <td>0.2</td>\n",
              "      <td>Iris-setosa</td>\n",
              "    </tr>\n",
              "    <tr>\n",
              "      <th>2</th>\n",
              "      <td>4.7</td>\n",
              "      <td>3.2</td>\n",
              "      <td>1.3</td>\n",
              "      <td>0.2</td>\n",
              "      <td>Iris-setosa</td>\n",
              "    </tr>\n",
              "    <tr>\n",
              "      <th>3</th>\n",
              "      <td>4.6</td>\n",
              "      <td>3.1</td>\n",
              "      <td>1.5</td>\n",
              "      <td>0.2</td>\n",
              "      <td>Iris-setosa</td>\n",
              "    </tr>\n",
              "    <tr>\n",
              "      <th>4</th>\n",
              "      <td>5.0</td>\n",
              "      <td>3.6</td>\n",
              "      <td>1.4</td>\n",
              "      <td>0.2</td>\n",
              "      <td>Iris-setosa</td>\n",
              "    </tr>\n",
              "  </tbody>\n",
              "</table>\n",
              "</div>\n",
              "      <button class=\"colab-df-convert\" onclick=\"convertToInteractive('df-93d6731f-6c92-45f9-a36b-c8b81e0c2bdd')\"\n",
              "              title=\"Convert this dataframe to an interactive table.\"\n",
              "              style=\"display:none;\">\n",
              "        \n",
              "  <svg xmlns=\"http://www.w3.org/2000/svg\" height=\"24px\"viewBox=\"0 0 24 24\"\n",
              "       width=\"24px\">\n",
              "    <path d=\"M0 0h24v24H0V0z\" fill=\"none\"/>\n",
              "    <path d=\"M18.56 5.44l.94 2.06.94-2.06 2.06-.94-2.06-.94-.94-2.06-.94 2.06-2.06.94zm-11 1L8.5 8.5l.94-2.06 2.06-.94-2.06-.94L8.5 2.5l-.94 2.06-2.06.94zm10 10l.94 2.06.94-2.06 2.06-.94-2.06-.94-.94-2.06-.94 2.06-2.06.94z\"/><path d=\"M17.41 7.96l-1.37-1.37c-.4-.4-.92-.59-1.43-.59-.52 0-1.04.2-1.43.59L10.3 9.45l-7.72 7.72c-.78.78-.78 2.05 0 2.83L4 21.41c.39.39.9.59 1.41.59.51 0 1.02-.2 1.41-.59l7.78-7.78 2.81-2.81c.8-.78.8-2.07 0-2.86zM5.41 20L4 18.59l7.72-7.72 1.47 1.35L5.41 20z\"/>\n",
              "  </svg>\n",
              "      </button>\n",
              "      \n",
              "  <style>\n",
              "    .colab-df-container {\n",
              "      display:flex;\n",
              "      flex-wrap:wrap;\n",
              "      gap: 12px;\n",
              "    }\n",
              "\n",
              "    .colab-df-convert {\n",
              "      background-color: #E8F0FE;\n",
              "      border: none;\n",
              "      border-radius: 50%;\n",
              "      cursor: pointer;\n",
              "      display: none;\n",
              "      fill: #1967D2;\n",
              "      height: 32px;\n",
              "      padding: 0 0 0 0;\n",
              "      width: 32px;\n",
              "    }\n",
              "\n",
              "    .colab-df-convert:hover {\n",
              "      background-color: #E2EBFA;\n",
              "      box-shadow: 0px 1px 2px rgba(60, 64, 67, 0.3), 0px 1px 3px 1px rgba(60, 64, 67, 0.15);\n",
              "      fill: #174EA6;\n",
              "    }\n",
              "\n",
              "    [theme=dark] .colab-df-convert {\n",
              "      background-color: #3B4455;\n",
              "      fill: #D2E3FC;\n",
              "    }\n",
              "\n",
              "    [theme=dark] .colab-df-convert:hover {\n",
              "      background-color: #434B5C;\n",
              "      box-shadow: 0px 1px 3px 1px rgba(0, 0, 0, 0.15);\n",
              "      filter: drop-shadow(0px 1px 2px rgba(0, 0, 0, 0.3));\n",
              "      fill: #FFFFFF;\n",
              "    }\n",
              "  </style>\n",
              "\n",
              "      <script>\n",
              "        const buttonEl =\n",
              "          document.querySelector('#df-93d6731f-6c92-45f9-a36b-c8b81e0c2bdd button.colab-df-convert');\n",
              "        buttonEl.style.display =\n",
              "          google.colab.kernel.accessAllowed ? 'block' : 'none';\n",
              "\n",
              "        async function convertToInteractive(key) {\n",
              "          const element = document.querySelector('#df-93d6731f-6c92-45f9-a36b-c8b81e0c2bdd');\n",
              "          const dataTable =\n",
              "            await google.colab.kernel.invokeFunction('convertToInteractive',\n",
              "                                                     [key], {});\n",
              "          if (!dataTable) return;\n",
              "\n",
              "          const docLinkHtml = 'Like what you see? Visit the ' +\n",
              "            '<a target=\"_blank\" href=https://colab.research.google.com/notebooks/data_table.ipynb>data table notebook</a>'\n",
              "            + ' to learn more about interactive tables.';\n",
              "          element.innerHTML = '';\n",
              "          dataTable['output_type'] = 'display_data';\n",
              "          await google.colab.output.renderOutput(dataTable, element);\n",
              "          const docLink = document.createElement('div');\n",
              "          docLink.innerHTML = docLinkHtml;\n",
              "          element.appendChild(docLink);\n",
              "        }\n",
              "      </script>\n",
              "    </div>\n",
              "  </div>\n",
              "  "
            ]
          },
          "metadata": {},
          "execution_count": 776
        }
      ]
    },
    {
      "cell_type": "markdown",
      "source": [
        "# Polynomial model"
      ],
      "metadata": {
        "id": "_8mjdMdF5JKX"
      }
    },
    {
      "cell_type": "code",
      "source": [
        "def model(X, W, b):\n",
        "    return X.dot(W) + b\n",
        "# The next line is just for illustration\n",
        "model(np.array([[3, 3**2], [2, 2**2], [5, 5**2]]), np.array([[1], [2]]), 3)"
      ],
      "metadata": {
        "id": "PI8_v1tu5K91",
        "colab": {
          "base_uri": "https://localhost:8080/"
        },
        "outputId": "6e2bd5ac-d8c0-4cf0-8784-8cb3b0e6889f"
      },
      "execution_count": 777,
      "outputs": [
        {
          "output_type": "execute_result",
          "data": {
            "text/plain": [
              "array([[24],\n",
              "       [13],\n",
              "       [58]])"
            ]
          },
          "metadata": {},
          "execution_count": 777
        }
      ]
    },
    {
      "cell_type": "markdown",
      "source": [
        "# Cost function"
      ],
      "metadata": {
        "id": "HoahgPZz5bMi"
      }
    },
    {
      "cell_type": "code",
      "source": [
        "def cost_function(X, y, W, b):\n",
        "    m = len(y)\n",
        "    y_pred = model(X, W, b)\n",
        "    return 1 / (2*m) * np.sum((y_pred - y)**2)"
      ],
      "metadata": {
        "id": "EU620RYa5ctU"
      },
      "execution_count": 778,
      "outputs": []
    },
    {
      "cell_type": "markdown",
      "source": [
        "# Gradient descent"
      ],
      "metadata": {
        "id": "yxxr5DoZ5oMh"
      }
    },
    {
      "cell_type": "code",
      "source": [
        "def gradient_descent(X, y, W, b, learning_rate, n_iterations):\n",
        "    \n",
        "    # X.shape = (m, n)\n",
        "    # y.shape = (m, 1)\n",
        "    # W.shape = (n, )\n",
        "    # learning_rate : double\n",
        "    # n_iterations : integer\n",
        "\n",
        "    cost_history = []  # cost_history.shape = (n_iterations, )\n",
        "    m = X.shape[0]\n",
        "\n",
        "    for i in range(0, n_iterations):\n",
        "        y_pred = model(X, W, b)  # y_pred.shape = (m, 1)\n",
        "\n",
        "        W = W - learning_rate * (1 / m) * ( X.T.dot(y_pred - y) )\n",
        "        b = b - learning_rate * (1 / m) * sum(y_pred - y)\n",
        "        cost_history.append(cost_function(X, y, W, b))\n",
        "        \n",
        "    return W, b, cost_history"
      ],
      "metadata": {
        "id": "0ITdxd1m5s3y"
      },
      "execution_count": 779,
      "outputs": []
    },
    {
      "cell_type": "markdown",
      "source": [
        "## Predict sepal_width based on petal_length"
      ],
      "metadata": {
        "id": "SKomAok3-Wjc"
      }
    },
    {
      "cell_type": "code",
      "source": [
        "x = dataset['petal_length'].values.reshape(-1, 1)\n",
        "y = dataset['sepal_width'].values.reshape(-1, 1)"
      ],
      "metadata": {
        "id": "UXIrd817-Wjp"
      },
      "execution_count": 780,
      "outputs": []
    },
    {
      "cell_type": "code",
      "source": [
        "print(x.shape)\n",
        "print(y.shape)"
      ],
      "metadata": {
        "colab": {
          "base_uri": "https://localhost:8080/"
        },
        "outputId": "0e628fe6-d08c-474e-a2ba-41bd4bf698ed",
        "id": "BPeMbrGI-Wjq"
      },
      "execution_count": 781,
      "outputs": [
        {
          "output_type": "stream",
          "name": "stdout",
          "text": [
            "(150, 1)\n",
            "(150, 1)\n"
          ]
        }
      ]
    },
    {
      "cell_type": "markdown",
      "source": [
        "## Create polynomial features"
      ],
      "metadata": {
        "id": "B1sGL93jlBhL"
      }
    },
    {
      "cell_type": "code",
      "source": [
        "X=np.hstack((x, x**2))"
      ],
      "metadata": {
        "id": "dxnTvtCk-Wjq"
      },
      "execution_count": 782,
      "outputs": []
    },
    {
      "cell_type": "markdown",
      "source": [
        "## Generate parameters"
      ],
      "metadata": {
        "id": "2HizmcWClEqU"
      }
    },
    {
      "cell_type": "code",
      "source": [
        "np.random.seed(0) \n",
        "W = np.random.random((X.shape[1], 1))\n",
        "b = np.random.random(1)\n",
        "print('W : ', W)\n",
        "print(\"b : \", b)"
      ],
      "metadata": {
        "colab": {
          "base_uri": "https://localhost:8080/"
        },
        "outputId": "b08558e1-9d70-47df-b038-619b3dfb46dd",
        "id": "Wj1KK1Hy-Wjr"
      },
      "execution_count": 783,
      "outputs": [
        {
          "output_type": "stream",
          "name": "stdout",
          "text": [
            "W :  [[0.5488135 ]\n",
            " [0.71518937]]\n",
            "b :  [0.60276338]\n"
          ]
        }
      ]
    },
    {
      "cell_type": "markdown",
      "source": [
        "## Plot pretrained model"
      ],
      "metadata": {
        "id": "EIiwsrUCi76v"
      }
    },
    {
      "cell_type": "code",
      "source": [
        "plt.scatter(X[:, 0], y[:, 0], label = 'Dataset')\n",
        "\n",
        "grid_X = np.arange(min(X[:, 0]), max(X[:, 0]), 0.01).reshape(-1, 1)\n",
        "grid_X = np.hstack((grid_X, grid_X**2))\n",
        "\n",
        "predictions = model(grid_X, W, b)\n",
        "\n",
        "plt.plot(grid_X[:, 0], predictions[:, 0], c = 'red', label = 'Model', linewidth = 3)\n",
        "\n",
        "\n",
        "plt.xlabel('petal_length')\n",
        "plt.ylabel('sepal_width')\n",
        "plt.legend()\n",
        "plt.show()"
      ],
      "metadata": {
        "colab": {
          "base_uri": "https://localhost:8080/",
          "height": 454
        },
        "outputId": "8b52060b-9bb6-40c7-b840-8951c1e5cb80",
        "id": "VZZqRbnj-Wjr"
      },
      "execution_count": 793,
      "outputs": [
        {
          "output_type": "display_data",
          "data": {
            "text/plain": [
              "<Figure size 640x480 with 1 Axes>"
            ],
            "image/png": "[encoded data removed]"
          },
          "metadata": {}
        }
      ]
    },
    {
      "cell_type": "markdown",
      "source": [
        "## Training the model"
      ],
      "metadata": {
        "id": "Q3mUOQCa-Wjr"
      }
    },
    {
      "cell_type": "code",
      "source": [
        "n_iterations = 30000\n",
        "learning_rate = 0.004\n",
        "\n",
        "W_final, b_final, cost_history = gradient_descent(X, y, W, b, learning_rate, n_iterations)\n",
        "print(f\"Iteration {1:3d}: {cost_history[0]}\")\n",
        "for i in range(len(cost_history)):\n",
        "  if (i+1) % 5000 == 0:\n",
        "    print(f\"Iteration {i:3d}: {cost_history[i]}\")"
      ],
      "metadata": {
        "id": "cpzYrj_k-Wjr",
        "colab": {
          "base_uri": "https://localhost:8080/"
        },
        "outputId": "c0ff3722-99bf-4b3f-92ea-8892fa0f1ae4"
      },
      "execution_count": 785,
      "outputs": [
        {
          "output_type": "stream",
          "name": "stdout",
          "text": [
            "Iteration   1: 96.52460799862132\n",
            "Iteration 4999: 0.1184278951615186\n",
            "Iteration 9999: 0.07536353947908164\n",
            "Iteration 14999: 0.063163138739287\n",
            "Iteration 19999: 0.05970668906407947\n",
            "Iteration 24999: 0.0587274552985627\n",
            "Iteration 29999: 0.05845003226115936\n"
          ]
        }
      ]
    },
    {
      "cell_type": "code",
      "source": [
        "b_final"
      ],
      "metadata": {
        "colab": {
          "base_uri": "https://localhost:8080/"
        },
        "id": "w-GQmWhrMx8C",
        "outputId": "3d3e5a7b-3cb9-4446-8116-097260a2e2a3"
      },
      "execution_count": 786,
      "outputs": [
        {
          "output_type": "execute_result",
          "data": {
            "text/plain": [
              "array([4.16208637])"
            ]
          },
          "metadata": {},
          "execution_count": 786
        }
      ]
    },
    {
      "cell_type": "code",
      "source": [
        "print(W_final)\n",
        "print(b_final)"
      ],
      "metadata": {
        "id": "5lRTQBHUbUZ7",
        "colab": {
          "base_uri": "https://localhost:8080/"
        },
        "outputId": "c7128901-b1bc-4de2-f660-b0e44c919526"
      },
      "execution_count": 787,
      "outputs": [
        {
          "output_type": "stream",
          "name": "stdout",
          "text": [
            "[[-0.65917833]\n",
            " [ 0.07940478]]\n",
            "[4.16208637]\n"
          ]
        }
      ]
    },
    {
      "cell_type": "markdown",
      "source": [
        "## Plot trained model"
      ],
      "metadata": {
        "id": "-3YJhR-4j78E"
      }
    },
    {
      "cell_type": "code",
      "source": [
        "predictions = model(X, W_final, b_final) \n",
        "\n",
        "plt.scatter(X[:, 0], y[:, 0], label='Dataset')\n",
        "plt.scatter(X[:, 0], predictions[:, 0], c = 'r', label = 'Predictions')\n",
        "plt.xlabel('petal_length')\n",
        "plt.ylabel('sepal_width')\n",
        "plt.legend()\n",
        "plt.show()"
      ],
      "metadata": {
        "id": "fVwBYjUx-Wjs",
        "colab": {
          "base_uri": "https://localhost:8080/",
          "height": 452
        },
        "outputId": "3c9614bc-2492-4dbe-933f-fe3fdd72061d"
      },
      "execution_count": 788,
      "outputs": [
        {
          "output_type": "display_data",
          "data": {
            "text/plain": [
              "<Figure size 640x480 with 1 Axes>"
            ],
            "image/png": "[encoded data removed]"
          },
          "metadata": {}
        }
      ]
    },
    {
      "cell_type": "markdown",
      "source": [
        "## High resolution plot"
      ],
      "metadata": {
        "id": "b3rOExQ1a7o6"
      }
    },
    {
      "cell_type": "code",
      "source": [
        "grid_X = np.arange(min(X[:, 0]), max(X[:, 0]), 0.01).reshape(-1, 1)\n",
        "grid_X = np.hstack((grid_X,grid_X**2))\n",
        "plt.scatter(X[:, 0], y[:, 0], label = 'Dataset')\n",
        "\n",
        "predictions = model(grid_X, W_final, b_final)\n",
        "\n",
        "plt.plot(grid_X[:, 0], predictions[:, 0], c = 'red', label = 'Model', linewidth = 3)"
      ],
      "metadata": {
        "colab": {
          "base_uri": "https://localhost:8080/",
          "height": 450
        },
        "id": "9Zdbj0T5a7ZC",
        "outputId": "0e8275b8-469b-4515-96d3-e2638ecf2ce9"
      },
      "execution_count": 789,
      "outputs": [
        {
          "output_type": "execute_result",
          "data": {
            "text/plain": [
              "[<matplotlib.lines.Line2D at 0x7f50eb1e17f0>]"
            ]
          },
          "metadata": {},
          "execution_count": 789
        },
        {
          "output_type": "display_data",
          "data": {
            "text/plain": [
              "<Figure size 640x480 with 1 Axes>"
            ],
            "image/png": "[encoded data removed]"
          },
          "metadata": {}
        }
      ]
    },
    {
      "cell_type": "markdown",
      "source": [
        "# Using sklearn libraries"
      ],
      "metadata": {
        "id": "fji_xLWg9LS5"
      }
    },
    {
      "cell_type": "markdown",
      "source": [
        "## Importing the dataset"
      ],
      "metadata": {
        "id": "QgHLWZXR9PM8"
      }
    },
    {
      "cell_type": "code",
      "source": [
        "dataset = pd.read_csv('iris.csv')\n",
        "X_ = dataset[['petal_length']]\n",
        "y_ = dataset['sepal_width']"
      ],
      "metadata": {
        "id": "zSBmPLrp9Oii"
      },
      "execution_count": 790,
      "outputs": []
    },
    {
      "cell_type": "markdown",
      "source": [
        "## Training the dataset on the polynomial model"
      ],
      "metadata": {
        "id": "J9z8CCM29hPI"
      }
    },
    {
      "cell_type": "code",
      "source": [
        "from sklearn.preprocessing import PolynomialFeatures\n",
        "from sklearn.linear_model import LinearRegression\n",
        "\n",
        "poly_reg = PolynomialFeatures(degree = 2)\n",
        "X_poly = poly_reg.fit_transform(X_)\n",
        "\n",
        "lin_reg_2 = LinearRegression()\n",
        "lin_reg_2.fit(X_poly, y)"
      ],
      "metadata": {
        "colab": {
          "base_uri": "https://localhost:8080/",
          "height": 74
        },
        "id": "K3D5awzI9ZbE",
        "outputId": "1177d9ab-e003-4df5-c3b5-f4ee45d94aaf"
      },
      "execution_count": 791,
      "outputs": [
        {
          "output_type": "execute_result",
          "data": {
            "text/plain": [
              "LinearRegression()"
            ],
            "text/html": [
              "<style>#sk-container-id-30 {color: black;background-color: white;}#sk-container-id-30 pre{padding: 0;}#sk-container-id-30 div.sk-toggleable {background-color: white;}#sk-container-id-30 label.sk-toggleable__label {cursor: pointer;display: block;width: 100%;margin-bottom: 0;padding: 0.3em;box-sizing: border-box;text-align: center;}#sk-container-id-30 label.sk-toggleable__label-arrow:before {content: \"▸\";float: left;margin-right: 0.25em;color: #696969;}#sk-container-id-30 label.sk-toggleable__label-arrow:hover:before {color: black;}#sk-container-id-30 div.sk-estimator:hover label.sk-toggleable__label-arrow:before {color: black;}#sk-container-id-30 div.sk-toggleable__content {max-height: 0;max-width: 0;overflow: hidden;text-align: left;background-color: #f0f8ff;}#sk-container-id-30 div.sk-toggleable__content pre {margin: 0.2em;color: black;border-radius: 0.25em;background-color: #f0f8ff;}#sk-container-id-30 input.sk-toggleable__control:checked~div.sk-toggleable__content {max-height: 200px;max-width: 100%;overflow: auto;}#sk-container-id-30 input.sk-toggleable__control:checked~label.sk-toggleable__label-arrow:before {content: \"▾\";}#sk-container-id-30 div.sk-estimator input.sk-toggleable__control:checked~label.sk-toggleable__label {background-color: #d4ebff;}#sk-container-id-30 div.sk-label input.sk-toggleable__control:checked~label.sk-toggleable__label {background-color: #d4ebff;}#sk-container-id-30 input.sk-hidden--visually {border: 0;clip: rect(1px 1px 1px 1px);clip: rect(1px, 1px, 1px, 1px);height: 1px;margin: -1px;overflow: hidden;padding: 0;position: absolute;width: 1px;}#sk-container-id-30 div.sk-estimator {font-family: monospace;background-color: #f0f8ff;border: 1px dotted black;border-radius: 0.25em;box-sizing: border-box;margin-bottom: 0.5em;}#sk-container-id-30 div.sk-estimator:hover {background-color: #d4ebff;}#sk-container-id-30 div.sk-parallel-item::after {content: \"\";width: 100%;border-bottom: 1px solid gray;flex-grow: 1;}#sk-container-id-30 div.sk-label:hover label.sk-toggleable__label {background-color: #d4ebff;}#sk-container-id-30 div.sk-serial::before {content: \"\";position: absolute;border-left: 1px solid gray;box-sizing: border-box;top: 0;bottom: 0;left: 50%;z-index: 0;}#sk-container-id-30 div.sk-serial {display: flex;flex-direction: column;align-items: center;background-color: white;padding-right: 0.2em;padding-left: 0.2em;position: relative;}#sk-container-id-30 div.sk-item {position: relative;z-index: 1;}#sk-container-id-30 div.sk-parallel {display: flex;align-items: stretch;justify-content: center;background-color: white;position: relative;}#sk-container-id-30 div.sk-item::before, #sk-container-id-30 div.sk-parallel-item::before {content: \"\";position: absolute;border-left: 1px solid gray;box-sizing: border-box;top: 0;bottom: 0;left: 50%;z-index: -1;}#sk-container-id-30 div.sk-parallel-item {display: flex;flex-direction: column;z-index: 1;position: relative;background-color: white;}#sk-container-id-30 div.sk-parallel-item:first-child::after {align-self: flex-end;width: 50%;}#sk-container-id-30 div.sk-parallel-item:last-child::after {align-self: flex-start;width: 50%;}#sk-container-id-30 div.sk-parallel-item:only-child::after {width: 0;}#sk-container-id-30 div.sk-dashed-wrapped {border: 1px dashed gray;margin: 0 0.4em 0.5em 0.4em;box-sizing: border-box;padding-bottom: 0.4em;background-color: white;}#sk-container-id-30 div.sk-label label {font-family: monospace;font-weight: bold;display: inline-block;line-height: 1.2em;}#sk-container-id-30 div.sk-label-container {text-align: center;}#sk-container-id-30 div.sk-container {/* jupyter's `normalize.less` sets `[hidden] { display: none; }` but bootstrap.min.css set `[hidden] { display: none !important; }` so we also need the `!important` here to be able to override the default hidden behavior on the sphinx rendered scikit-learn.org. See: https://github.com/scikit-learn/scikit-learn/issues/21755 */display: inline-block !important;position: relative;}#sk-container-id-30 div.sk-text-repr-fallback {display: none;}</style><div id=\"sk-container-id-30\" class=\"sk-top-container\"><div class=\"sk-text-repr-fallback\"><pre>LinearRegression()</pre><b>In a Jupyter environment, please rerun this cell to show the HTML representation or trust the notebook. <br />On GitHub, the HTML representation is unable to render, please try loading this page with nbviewer.org.</b></div><div class=\"sk-container\" hidden><div class=\"sk-item\"><div class=\"sk-estimator sk-toggleable\"><input class=\"sk-toggleable__control sk-hidden--visually\" id=\"sk-estimator-id-30\" type=\"checkbox\" checked><label for=\"sk-estimator-id-30\" class=\"sk-toggleable__label sk-toggleable__label-arrow\">LinearRegression</label><div class=\"sk-toggleable__content\"><pre>LinearRegression()</pre></div></div></div></div></div>"
            ]
          },
          "metadata": {},
          "execution_count": 791
        }
      ]
    },
    {
      "cell_type": "markdown",
      "source": [
        "## Visualising the Polynomial Regression results"
      ],
      "metadata": {
        "id": "z4uOKNci9vlX"
      }
    },
    {
      "cell_type": "code",
      "source": [
        "# Plot results\n",
        "ypred_poly = lin_reg_2.predict(X_poly)\n",
        "plt.scatter(X_, y_)\n",
        "plt.scatter(X_, ypred_poly, color = 'red')"
      ],
      "metadata": {
        "colab": {
          "base_uri": "https://localhost:8080/",
          "height": 450
        },
        "id": "CEkmBRMe9yVs",
        "outputId": "3d2b1917-3f8c-46a7-c058-9f06f1748e0d"
      },
      "execution_count": 792,
      "outputs": [
        {
          "output_type": "execute_result",
          "data": {
            "text/plain": [
              "<matplotlib.collections.PathCollection at 0x7f50eb4111c0>"
            ]
          },
          "metadata": {},
          "execution_count": 792
        },
        {
          "output_type": "display_data",
          "data": {
            "text/plain": [
              "<Figure size 640x480 with 1 Axes>"
            ],
            "image/png": "[encoded data removed]"
          },
          "metadata": {}
        }
      ]
    }
  ]
}