{
  "nbformat": 4,
  "nbformat_minor": 0,
  "metadata": {
    "colab": {
      "provenance": [],
      "authorship_tag": "ABX9TyPZwHEa4hQCyFRw97Fk7Zdn",
      "include_colab_link": true
    },
    "kernelspec": {
      "name": "python3",
      "display_name": "Python 3"
    },
    "language_info": {
      "name": "python"
    }
  },
  "cells": [
    {
      "cell_type": "markdown",
      "metadata": {
        "id": "view-in-github",
        "colab_type": "text"
      },
      "source": [
        "<a href=\"https://colab.research.google.com/github/Slimani-CE/AI-Python-Implemention/blob/main/Graphs.ipynb\" target=\"_parent\"><img src=\"https://colab.research.google.com/assets/colab-badge.svg\" alt=\"Open In Colab\"/></a>"
      ]
    },
    {
      "cell_type": "code",
      "execution_count": null,
      "metadata": {
        "colab": {
          "base_uri": "https://localhost:8080/"
        },
        "id": "rNmY7WszqYni",
        "outputId": "ab728d6c-b94d-4ca2-b81f-1ced3f2489f5"
      },
      "outputs": [
        {
          "output_type": "stream",
          "name": "stdout",
          "text": [
            "Letter C\n"
          ]
        }
      ],
      "source": [
        "A = 'Letter A'\n",
        "B = 'Letter B'\n",
        "C = 'Letter C'\n",
        "D = 'Letter D'\n",
        "E = 'Letter E'\n",
        "F = 'Letter F'\n",
        "\n",
        "graph = {\n",
        "    A: D,\n",
        "    D: C\n",
        "}\n",
        "\n",
        "print(graph[graph[A]])\n"
      ]
    },
    {
      "cell_type": "code",
      "source": [],
      "metadata": {
        "id": "JkqmIzTHsezo"
      },
      "execution_count": null,
      "outputs": []
    }
  ]
}